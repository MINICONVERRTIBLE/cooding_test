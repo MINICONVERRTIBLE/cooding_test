{
 "cells": [
  {
   "attachments": {},
   "cell_type": "markdown",
   "metadata": {},
   "source": [
    "무인도에 갇힌 사람들을 구명보트를 이용하여 구출하려고 합니다. 구명보트는 작아서 한 번에 최대 2명씩 밖에 탈 수 없고, 무게 제한도 있습니다.\n",
    "\n",
    "예를 들어, 사람들의 몸무게가 [70kg, 50kg, 80kg, 50kg]이고 구명보트의 무게 제한이 100kg이라면 2번째 사람과 4번째 사람은 같이 탈 수 있지만 1번째 사람과 3번째 사람의 무게의 합은 150kg이므로 구명보트의 무게 제한을 초과하여 같이 탈 수 없습니다.\n",
    "\n",
    "구명보트를 최대한 적게 사용하여 모든 사람을 구출하려고 합니다.\n",
    "\n",
    "사람들의 몸무게를 담은 배열 people과 구명보트의 무게 제한 limit가 매개변수로 주어질 때, 모든 사람을 구출하기 위해 필요한 구명보트 개수의 최솟값을 return 하도록 solution 함수를 작성해주세요.\n",
    "\n",
    "제한사항\n",
    "무인도에 갇힌 사람은 1명 이상 50,000명 이하입니다.\n",
    "각 사람의 몸무게는 40kg 이상 240kg 이하입니다.\n",
    "구명보트의 무게 제한은 40kg 이상 240kg 이하입니다.\n",
    "구명보트의 무게 제한은 항상 사람들의 몸무게 중 최댓값보다 크게 주어지므로 사람들을 구출할 수 없는 경우는 없습니다.\n",
    "입출력 예\n",
    "people\tlimit\treturn\n",
    "[70, 50, 80, 50]\t100\t3\n",
    "[70, 80, 50]\t100\t3\n",
    "solution.py\n",
    "1\n",
    "def solution(people, limit):\n",
    "2\n",
    "    answer = 0\n",
    "3\n",
    "    return answer\n",
    "실행 결과\n",
    "실행 결과가 여기에 표시됩니다."
   ]
  },
  {
   "cell_type": "code",
   "execution_count": 1,
   "metadata": {},
   "outputs": [],
   "source": [
    "def solution(people, limit):\n",
    "    cnt = 0\n",
    "    sorted(people)\n",
    "    start, end = 0, len(people)-1\n",
    "    while start <= end:\n",
    "        cnt += 1\n",
    "        if people[start] + people[end] <= limit:\n",
    "            start += 1\n",
    "        end -= 1\n",
    "    return cnt "
   ]
  },
  {
   "cell_type": "code",
   "execution_count": 63,
   "metadata": {},
   "outputs": [],
   "source": [
    "import itertools\n",
    "def solution (people, limit):\n",
    "    cnt = 0\n",
    "    result = 0 \n",
    "    combinations = list(itertools.combinations(people,2))\n",
    "    for i in range(len(combinations)):\n",
    "        if combinations[i][0]+combinations[i][1] <= limit:\n",
    "            cnt += 1\n",
    "    if cnt < len(people):\n",
    "        result = cnt + len(people) - cnt*2\n",
    "    return result\n",
    "\n",
    "            \n"
   ]
  },
  {
   "cell_type": "code",
   "execution_count": 2,
   "metadata": {},
   "outputs": [
    {
     "data": {
      "text/plain": [
       "4"
      ]
     },
     "execution_count": 2,
     "metadata": {},
     "output_type": "execute_result"
    }
   ],
   "source": [
    "people = [70, 50, 80, 50]\n",
    "limit = 100 \n",
    "solution(people, limit)"
   ]
  },
  {
   "cell_type": "code",
   "execution_count": 3,
   "metadata": {},
   "outputs": [
    {
     "data": {
      "text/plain": [
       "3"
      ]
     },
     "execution_count": 3,
     "metadata": {},
     "output_type": "execute_result"
    }
   ],
   "source": [
    "people = [70, 80, 50]\n",
    "limit = 100 \n",
    "solution(people, limit)"
   ]
  },
  {
   "cell_type": "code",
   "execution_count": null,
   "metadata": {},
   "outputs": [],
   "source": []
  },
  {
   "cell_type": "code",
   "execution_count": null,
   "metadata": {},
   "outputs": [],
   "source": []
  }
 ],
 "metadata": {
  "kernelspec": {
   "display_name": "base",
   "language": "python",
   "name": "python3"
  },
  "language_info": {
   "codemirror_mode": {
    "name": "ipython",
    "version": 3
   },
   "file_extension": ".py",
   "mimetype": "text/x-python",
   "name": "python",
   "nbconvert_exporter": "python",
   "pygments_lexer": "ipython3",
   "version": "3.9.12"
  },
  "orig_nbformat": 4,
  "vscode": {
   "interpreter": {
    "hash": "ad2bdc8ecc057115af97d19610ffacc2b4e99fae6737bb82f5d7fb13d2f2c186"
   }
  }
 },
 "nbformat": 4,
 "nbformat_minor": 2
}
