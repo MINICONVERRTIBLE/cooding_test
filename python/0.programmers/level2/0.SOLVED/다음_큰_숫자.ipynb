{
 "cells": [
  {
   "attachments": {},
   "cell_type": "markdown",
   "metadata": {},
   "source": [
    "자연수 n이 주어졌을 때, n의 다음 큰 숫자는 다음과 같이 정의 합니다.\n",
    "\n",
    "조건 1. n의 다음 큰 숫자는 n보다 큰 자연수 입니다.\n",
    "조건 2. n의 다음 큰 숫자와 n은 2진수로 변환했을 때 1의 갯수가 같습니다.\n",
    "조건 3. n의 다음 큰 숫자는 조건 1, 2를 만족하는 수 중 가장 작은 수 입니다.\n",
    "예를 들어서 78(1001110)의 다음 큰 숫자는 83(1010011)입니다.\n",
    "\n",
    "자연수 n이 매개변수로 주어질 때, n의 다음 큰 숫자를 return 하는 solution 함수를 완성해주세요.\n",
    "\n",
    "제한 사항\n",
    "n은 1,000,000 이하의 자연수 입니다."
   ]
  },
  {
   "cell_type": "code",
   "execution_count": null,
   "metadata": {},
   "outputs": [],
   "source": [
    "#bin 함수 => 2진법 변환 \n",
    "#파이썬 counter 기능 (등장 횟수를 세는 기능을 제공)\n",
    "from collections import Counter\n",
    "counter = Counter(['red','blue','red','green','blue','blue'])\n",
    "print(counter['blue']) #blue가 등장한 횟수 출력 \n",
    "print(counter['green']) #green이 등장한 횟수 출력"
   ]
  },
  {
   "cell_type": "code",
   "execution_count": 2,
   "metadata": {},
   "outputs": [],
   "source": [
    "from collections import Counter\n",
    "def solution(n):\n",
    "    cnt = bin(n).count('1')\n",
    "    while True:\n",
    "        n += 1\n",
    "        if cnt == bin(n).count('1'):\n",
    "            break\n",
    "    return n "
   ]
  },
  {
   "cell_type": "code",
   "execution_count": 3,
   "metadata": {},
   "outputs": [
    {
     "data": {
      "text/plain": [
       "83"
      ]
     },
     "execution_count": 3,
     "metadata": {},
     "output_type": "execute_result"
    }
   ],
   "source": [
    "n = 78 \n",
    "solution(n)"
   ]
  },
  {
   "cell_type": "code",
   "execution_count": 4,
   "metadata": {},
   "outputs": [
    {
     "data": {
      "text/plain": [
       "23"
      ]
     },
     "execution_count": 4,
     "metadata": {},
     "output_type": "execute_result"
    }
   ],
   "source": [
    "n = 15 \n",
    "solution(n)"
   ]
  }
 ],
 "metadata": {
  "kernelspec": {
   "display_name": "base",
   "language": "python",
   "name": "python3"
  },
  "language_info": {
   "codemirror_mode": {
    "name": "ipython",
    "version": 3
   },
   "file_extension": ".py",
   "mimetype": "text/x-python",
   "name": "python",
   "nbconvert_exporter": "python",
   "pygments_lexer": "ipython3",
   "version": "3.9.12"
  },
  "orig_nbformat": 4,
  "vscode": {
   "interpreter": {
    "hash": "ad2bdc8ecc057115af97d19610ffacc2b4e99fae6737bb82f5d7fb13d2f2c186"
   }
  }
 },
 "nbformat": 4,
 "nbformat_minor": 2
}
