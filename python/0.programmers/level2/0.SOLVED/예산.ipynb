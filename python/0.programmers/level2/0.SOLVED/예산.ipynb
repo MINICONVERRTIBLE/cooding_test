{
 "cells": [
  {
   "attachments": {},
   "cell_type": "markdown",
   "metadata": {},
   "source": [
    "S사에서는 각 부서에 필요한 물품을 지원해 주기 위해 부서별로 물품을 구매하는데 필요한 금액을 조사했습니다. 그러나, 전체 예산이 정해져 있기 때문에 모든 부서의 물품을 구매해 줄 수는 없습니다. 그래서 최대한 많은 부서의 물품을 구매해 줄 수 있도록 하려고 합니다.\n",
    "\n",
    "물품을 구매해 줄 때는 각 부서가 신청한 금액만큼을 모두 지원해 줘야 합니다. 예를 들어 1,000원을 신청한 부서에는 정확히 1,000원을 지원해야 하며, 1,000원보다 적은 금액을 지원해 줄 수는 없습니다.\n",
    "\n",
    "부서별로 신청한 금액이 들어있는 배열 d와 예산 budget이 매개변수로 주어질 때, 최대 몇 개의 부서에 물품을 지원할 수 있는지 return 하도록 solution 함수를 완성해주세요.\n",
    "\n",
    "제한사항"
   ]
  },
  {
   "attachments": {},
   "cell_type": "markdown",
   "metadata": {},
   "source": [
    "[순열과 조합 참고자료](https://velog.io/@insutance/Python-%EC%88%9C%EC%97%B4%EA%B3%BC-%EC%A1%B0%ED%95%A9-%EB%9D%BC%EC%9D%B4%EB%B8%8C%EB%9F%AC%EB%A6%AC)"
   ]
  },
  {
   "cell_type": "code",
   "execution_count": null,
   "metadata": {},
   "outputs": [],
   "source": [
    "#그리디 알고리즘으로 접근?"
   ]
  },
  {
   "cell_type": "code",
   "execution_count": 38,
   "metadata": {},
   "outputs": [],
   "source": [
    "def solution(d, budget):\n",
    "    money_types = sorted(d)\n",
    "    while budget < sum(d):\n",
    "        d.pop()\n",
    "    return len(d)\n",
    "\n"
   ]
  },
  {
   "cell_type": "code",
   "execution_count": 39,
   "metadata": {},
   "outputs": [
    {
     "ename": "NameError",
     "evalue": "name 'sort' is not defined",
     "output_type": "error",
     "traceback": [
      "\u001b[1;31m---------------------------------------------------------------------------\u001b[0m",
      "\u001b[1;31mNameError\u001b[0m                                 Traceback (most recent call last)",
      "\u001b[1;32mc:\\Users\\Jihae.LAPTOP-RT9ELE6H\\Desktop\\coding_test\\PYTHON\\0.Programmers\\level2\\예산.ipynb Cell 5\u001b[0m in \u001b[0;36m<cell line: 3>\u001b[1;34m()\u001b[0m\n\u001b[0;32m      <a href='vscode-notebook-cell:/c%3A/Users/Jihae.LAPTOP-RT9ELE6H/Desktop/coding_test/PYTHON/0.Programmers/level2/%EC%98%88%EC%82%B0.ipynb#W3sZmlsZQ%3D%3D?line=0'>1</a>\u001b[0m d \u001b[39m=\u001b[39m [\u001b[39m1\u001b[39m,\u001b[39m3\u001b[39m,\u001b[39m2\u001b[39m,\u001b[39m5\u001b[39m,\u001b[39m4\u001b[39m]\n\u001b[0;32m      <a href='vscode-notebook-cell:/c%3A/Users/Jihae.LAPTOP-RT9ELE6H/Desktop/coding_test/PYTHON/0.Programmers/level2/%EC%98%88%EC%82%B0.ipynb#W3sZmlsZQ%3D%3D?line=1'>2</a>\u001b[0m budget \u001b[39m=\u001b[39m \u001b[39m9\u001b[39m \n\u001b[1;32m----> <a href='vscode-notebook-cell:/c%3A/Users/Jihae.LAPTOP-RT9ELE6H/Desktop/coding_test/PYTHON/0.Programmers/level2/%EC%98%88%EC%82%B0.ipynb#W3sZmlsZQ%3D%3D?line=2'>3</a>\u001b[0m solution(d, budget)\n",
      "\u001b[1;32mc:\\Users\\Jihae.LAPTOP-RT9ELE6H\\Desktop\\coding_test\\PYTHON\\0.Programmers\\level2\\예산.ipynb Cell 5\u001b[0m in \u001b[0;36msolution\u001b[1;34m(d, budget)\u001b[0m\n\u001b[0;32m      <a href='vscode-notebook-cell:/c%3A/Users/Jihae.LAPTOP-RT9ELE6H/Desktop/coding_test/PYTHON/0.Programmers/level2/%EC%98%88%EC%82%B0.ipynb#W3sZmlsZQ%3D%3D?line=0'>1</a>\u001b[0m \u001b[39mdef\u001b[39;00m \u001b[39msolution\u001b[39m(d, budget):\n\u001b[1;32m----> <a href='vscode-notebook-cell:/c%3A/Users/Jihae.LAPTOP-RT9ELE6H/Desktop/coding_test/PYTHON/0.Programmers/level2/%EC%98%88%EC%82%B0.ipynb#W3sZmlsZQ%3D%3D?line=1'>2</a>\u001b[0m     money_types \u001b[39m=\u001b[39m sort(d)\n\u001b[0;32m      <a href='vscode-notebook-cell:/c%3A/Users/Jihae.LAPTOP-RT9ELE6H/Desktop/coding_test/PYTHON/0.Programmers/level2/%EC%98%88%EC%82%B0.ipynb#W3sZmlsZQ%3D%3D?line=2'>3</a>\u001b[0m     \u001b[39mwhile\u001b[39;00m budget \u001b[39m<\u001b[39m \u001b[39msum\u001b[39m(d):\n\u001b[0;32m      <a href='vscode-notebook-cell:/c%3A/Users/Jihae.LAPTOP-RT9ELE6H/Desktop/coding_test/PYTHON/0.Programmers/level2/%EC%98%88%EC%82%B0.ipynb#W3sZmlsZQ%3D%3D?line=3'>4</a>\u001b[0m         d\u001b[39m.\u001b[39mpop()\n",
      "\u001b[1;31mNameError\u001b[0m: name 'sort' is not defined"
     ]
    }
   ],
   "source": [
    "d = [1,3,2,5,4]\n",
    "budget = 9 \n",
    "solution(d, budget)"
   ]
  },
  {
   "cell_type": "code",
   "execution_count": 37,
   "metadata": {},
   "outputs": [
    {
     "data": {
      "text/plain": [
       "4"
      ]
     },
     "execution_count": 37,
     "metadata": {},
     "output_type": "execute_result"
    }
   ],
   "source": [
    "d = [2,2,3,3]\n",
    "budget = 10 \n",
    "solution(d, budget)"
   ]
  }
 ],
 "metadata": {
  "kernelspec": {
   "display_name": "base",
   "language": "python",
   "name": "python3"
  },
  "language_info": {
   "codemirror_mode": {
    "name": "ipython",
    "version": 3
   },
   "file_extension": ".py",
   "mimetype": "text/x-python",
   "name": "python",
   "nbconvert_exporter": "python",
   "pygments_lexer": "ipython3",
   "version": "3.9.12"
  },
  "orig_nbformat": 4,
  "vscode": {
   "interpreter": {
    "hash": "ad2bdc8ecc057115af97d19610ffacc2b4e99fae6737bb82f5d7fb13d2f2c186"
   }
  }
 },
 "nbformat": 4,
 "nbformat_minor": 2
}
