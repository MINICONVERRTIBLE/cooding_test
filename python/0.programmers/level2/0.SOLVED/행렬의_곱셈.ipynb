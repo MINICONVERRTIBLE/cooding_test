{
 "cells": [
  {
   "attachments": {},
   "cell_type": "markdown",
   "metadata": {},
   "source": [
    "2차원 행렬 arr1과 arr2를 입력받아, arr1에 arr2를 곱한 결과를 반환하는 함수, solution을 완성해주세요.\n",
    "\n",
    "제한 조건\n",
    "행렬 arr1, arr2의 행과 열의 길이는 2 이상 100 이하입니다.\n",
    "행렬 arr1, arr2의 원소는 -10 이상 20 이하인 자연수입니다.\n",
    "곱할 수 있는 배열만 주어집니다."
   ]
  },
  {
   "cell_type": "code",
   "execution_count": 14,
   "metadata": {},
   "outputs": [],
   "source": [
    "import numpy as np \n",
    "def solution(arr1, arr2):\n",
    "    result = np.matrix(arr1)*np.matrix(arr2)\n",
    "    return result "
   ]
  },
  {
   "cell_type": "code",
   "execution_count": 16,
   "metadata": {},
   "outputs": [],
   "source": [
    "import numpy as np\n",
    "def solution(A, B):\n",
    "    return (np.matrix(A)*np.matrix(B)).tolist()"
   ]
  },
  {
   "cell_type": "code",
   "execution_count": 20,
   "metadata": {},
   "outputs": [
    {
     "ename": "ValueError",
     "evalue": "operands could not be broadcast together with shapes (3,2) (2,2) ",
     "output_type": "error",
     "traceback": [
      "\u001b[1;31m---------------------------------------------------------------------------\u001b[0m",
      "\u001b[1;31mValueError\u001b[0m                                Traceback (most recent call last)",
      "\u001b[1;32mc:\\Users\\Jihae.LAPTOP-RT9ELE6H\\Desktop\\coding_test\\PYTHON\\0.Programmers\\level2\\행렬의_곱셈.ipynb Cell 4\u001b[0m in \u001b[0;36m<cell line: 3>\u001b[1;34m()\u001b[0m\n\u001b[0;32m      <a href='vscode-notebook-cell:/c%3A/Users/Jihae.LAPTOP-RT9ELE6H/Desktop/coding_test/PYTHON/0.Programmers/level2/%ED%96%89%EB%A0%AC%EC%9D%98_%EA%B3%B1%EC%85%88.ipynb#X12sZmlsZQ%3D%3D?line=0'>1</a>\u001b[0m arr1 \u001b[39m=\u001b[39m [[\u001b[39m1\u001b[39m, \u001b[39m4\u001b[39m], [\u001b[39m3\u001b[39m, \u001b[39m2\u001b[39m], [\u001b[39m4\u001b[39m, \u001b[39m1\u001b[39m]]\n\u001b[0;32m      <a href='vscode-notebook-cell:/c%3A/Users/Jihae.LAPTOP-RT9ELE6H/Desktop/coding_test/PYTHON/0.Programmers/level2/%ED%96%89%EB%A0%AC%EC%9D%98_%EA%B3%B1%EC%85%88.ipynb#X12sZmlsZQ%3D%3D?line=1'>2</a>\u001b[0m arr2 \u001b[39m=\u001b[39m [[\u001b[39m3\u001b[39m, \u001b[39m3\u001b[39m], [\u001b[39m3\u001b[39m, \u001b[39m3\u001b[39m]]\n\u001b[1;32m----> <a href='vscode-notebook-cell:/c%3A/Users/Jihae.LAPTOP-RT9ELE6H/Desktop/coding_test/PYTHON/0.Programmers/level2/%ED%96%89%EB%A0%AC%EC%9D%98_%EA%B3%B1%EC%85%88.ipynb#X12sZmlsZQ%3D%3D?line=2'>3</a>\u001b[0m Matrix(arr1, arr2)\n",
      "\u001b[1;32mc:\\Users\\Jihae.LAPTOP-RT9ELE6H\\Desktop\\coding_test\\PYTHON\\0.Programmers\\level2\\행렬의_곱셈.ipynb Cell 4\u001b[0m in \u001b[0;36mMatrix\u001b[1;34m(arr1, arr2)\u001b[0m\n\u001b[0;32m      <a href='vscode-notebook-cell:/c%3A/Users/Jihae.LAPTOP-RT9ELE6H/Desktop/coding_test/PYTHON/0.Programmers/level2/%ED%96%89%EB%A0%AC%EC%9D%98_%EA%B3%B1%EC%85%88.ipynb#X12sZmlsZQ%3D%3D?line=2'>3</a>\u001b[0m A \u001b[39m=\u001b[39m np\u001b[39m.\u001b[39marray(arr1)\n\u001b[0;32m      <a href='vscode-notebook-cell:/c%3A/Users/Jihae.LAPTOP-RT9ELE6H/Desktop/coding_test/PYTHON/0.Programmers/level2/%ED%96%89%EB%A0%AC%EC%9D%98_%EA%B3%B1%EC%85%88.ipynb#X12sZmlsZQ%3D%3D?line=3'>4</a>\u001b[0m B \u001b[39m=\u001b[39m np\u001b[39m.\u001b[39marray(arr2)\n\u001b[1;32m----> <a href='vscode-notebook-cell:/c%3A/Users/Jihae.LAPTOP-RT9ELE6H/Desktop/coding_test/PYTHON/0.Programmers/level2/%ED%96%89%EB%A0%AC%EC%9D%98_%EA%B3%B1%EC%85%88.ipynb#X12sZmlsZQ%3D%3D?line=4'>5</a>\u001b[0m answer \u001b[39m=\u001b[39m A\u001b[39m*\u001b[39;49mB\n\u001b[0;32m      <a href='vscode-notebook-cell:/c%3A/Users/Jihae.LAPTOP-RT9ELE6H/Desktop/coding_test/PYTHON/0.Programmers/level2/%ED%96%89%EB%A0%AC%EC%9D%98_%EA%B3%B1%EC%85%88.ipynb#X12sZmlsZQ%3D%3D?line=5'>6</a>\u001b[0m \u001b[39mreturn\u001b[39;00m answer\u001b[39m.\u001b[39mtolist()\n",
      "\u001b[1;31mValueError\u001b[0m: operands could not be broadcast together with shapes (3,2) (2,2) "
     ]
    }
   ],
   "source": [
    "arr1 = [[1, 4], [3, 2], [4, 1]]\n",
    "arr2 = [[3, 3], [3, 3]]\n",
    "Matrix(arr1, arr2)"
   ]
  },
  {
   "cell_type": "code",
   "execution_count": 19,
   "metadata": {},
   "outputs": [
    {
     "data": {
      "text/plain": [
       "matrix([[22, 22, 11],\n",
       "        [36, 28, 18],\n",
       "        [29, 20, 14]])"
      ]
     },
     "execution_count": 19,
     "metadata": {},
     "output_type": "execute_result"
    }
   ],
   "source": [
    "arr1 = [[2, 3, 2], [4, 2, 4], [3, 1, 4]]\n",
    "arr2 = [[5, 4, 3], [2, 4, 1], [3, 1, 1]]\n",
    "solution(arr1, arr2)"
   ]
  },
  {
   "cell_type": "code",
   "execution_count": null,
   "metadata": {},
   "outputs": [],
   "source": []
  },
  {
   "cell_type": "code",
   "execution_count": null,
   "metadata": {},
   "outputs": [],
   "source": []
  }
 ],
 "metadata": {
  "kernelspec": {
   "display_name": "base",
   "language": "python",
   "name": "python3"
  },
  "language_info": {
   "codemirror_mode": {
    "name": "ipython",
    "version": 3
   },
   "file_extension": ".py",
   "mimetype": "text/x-python",
   "name": "python",
   "nbconvert_exporter": "python",
   "pygments_lexer": "ipython3",
   "version": "3.9.12"
  },
  "orig_nbformat": 4,
  "vscode": {
   "interpreter": {
    "hash": "ad2bdc8ecc057115af97d19610ffacc2b4e99fae6737bb82f5d7fb13d2f2c186"
   }
  }
 },
 "nbformat": 4,
 "nbformat_minor": 2
}
