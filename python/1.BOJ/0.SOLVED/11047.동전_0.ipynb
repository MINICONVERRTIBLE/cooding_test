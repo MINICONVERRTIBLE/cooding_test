{
 "cells": [
  {
   "attachments": {},
   "cell_type": "markdown",
   "metadata": {},
   "source": [
    "문제\n",
    "준규가 가지고 있는 동전은 총 N종류이고, 각각의 동전을 매우 많이 가지고 있다.\n",
    "\n",
    "동전을 적절히 사용해서 그 가치의 합을 K로 만들려고 한다. 이때 필요한 동전 개수의 최솟값을 구하는 프로그램을 작성하시오.\n",
    "\n",
    "입력\n",
    "첫째 줄에 N과 K가 주어진다. (1 ≤ N ≤ 10, 1 ≤ K ≤ 100,000,000)\n",
    "\n",
    "둘째 줄부터 N개의 줄에 동전의 가치 Ai가 오름차순으로 주어진다. (1 ≤ Ai ≤ 1,000,000, A1 = 1, i ≥ 2인 경우에 Ai는 Ai-1의 배수)\n",
    "\n",
    "출력\n",
    "첫째 줄에 K원을 만드는데 필요한 동전 개수의 최솟값을 출력한다."
   ]
  },
  {
   "cell_type": "code",
   "execution_count": 5,
   "metadata": {},
   "outputs": [
    {
     "ename": "ValueError",
     "evalue": "too many values to unpack (expected 2)",
     "output_type": "error",
     "traceback": [
      "\u001b[1;31m---------------------------------------------------------------------------\u001b[0m",
      "\u001b[1;31mValueError\u001b[0m                                Traceback (most recent call last)",
      "\u001b[1;32mc:\\Users\\Jihae.LAPTOP-RT9ELE6H\\Desktop\\coding_test\\PYTHON\\1.BOJ\\1.UNSOLVED\\11047.동전_0.ipynb Cell 2\u001b[0m in \u001b[0;36m<cell line: 1>\u001b[1;34m()\u001b[0m\n\u001b[1;32m----> <a href='vscode-notebook-cell:/c%3A/Users/Jihae.LAPTOP-RT9ELE6H/Desktop/coding_test/PYTHON/1.BOJ/1.UNSOLVED/11047.%EB%8F%99%EC%A0%84_0.ipynb#W1sZmlsZQ%3D%3D?line=0'>1</a>\u001b[0m N, K \u001b[39m=\u001b[39m \u001b[39mmap\u001b[39m(\u001b[39mint\u001b[39m, \u001b[39minput\u001b[39m()\u001b[39m.\u001b[39msplit()) \n\u001b[0;32m      <a href='vscode-notebook-cell:/c%3A/Users/Jihae.LAPTOP-RT9ELE6H/Desktop/coding_test/PYTHON/1.BOJ/1.UNSOLVED/11047.%EB%8F%99%EC%A0%84_0.ipynb#W1sZmlsZQ%3D%3D?line=1'>2</a>\u001b[0m coins \u001b[39m=\u001b[39m []\n\u001b[0;32m      <a href='vscode-notebook-cell:/c%3A/Users/Jihae.LAPTOP-RT9ELE6H/Desktop/coding_test/PYTHON/1.BOJ/1.UNSOLVED/11047.%EB%8F%99%EC%A0%84_0.ipynb#W1sZmlsZQ%3D%3D?line=2'>3</a>\u001b[0m \u001b[39mfor\u001b[39;00m _ \u001b[39min\u001b[39;00m \u001b[39mrange\u001b[39m(N):\n",
      "\u001b[1;31mValueError\u001b[0m: too many values to unpack (expected 2)"
     ]
    }
   ],
   "source": [
    "N, K = map(int, input().split()) \n",
    "coins = []\n",
    "for _ in range(N):\n",
    "    coins.append(int(input()))\n",
    "sorted(coins, reverse = True)\n",
    "answer = 0\n",
    "for coin in coins:\n",
    "    if K >= coin:\n",
    "        answer += K // coin \n",
    "        K %= coin\n",
    "        if K <= 0:\n",
    "            break\n",
    "print(answer) \n",
    "    \n"
   ]
  },
  {
   "cell_type": "code",
   "execution_count": null,
   "metadata": {},
   "outputs": [],
   "source": [
    "N, K = map(int, input().split()) \n",
    "coins = []\n",
    "for _ in range(N):\n",
    "    coins.append(int(input()))\n",
    "coins.sort(reverse=True)\n",
    "answer = 0\n",
    "for coin in coins:\n",
    "    if K >= coin:\n",
    "        answer += K // coin \n",
    "        K %= coin \n",
    "        if K <= 0:\n",
    "       \t\tbreak\n",
    "print(answer) "
   ]
  },
  {
   "cell_type": "code",
   "execution_count": null,
   "metadata": {},
   "outputs": [],
   "source": [
    "10 4200\n",
    "1\n",
    "5\n",
    "10\n",
    "50\n",
    "100\n",
    "500\n",
    "1000\n",
    "5000\n",
    "10000\n",
    "50000"
   ]
  },
  {
   "cell_type": "code",
   "execution_count": null,
   "metadata": {},
   "outputs": [],
   "source": [
    "10 4790\n",
    "1\n",
    "5\n",
    "10\n",
    "50\n",
    "100\n",
    "500\n",
    "1000\n",
    "5000\n",
    "10000\n",
    "50000"
   ]
  }
 ],
 "metadata": {
  "kernelspec": {
   "display_name": "base",
   "language": "python",
   "name": "python3"
  },
  "language_info": {
   "codemirror_mode": {
    "name": "ipython",
    "version": 3
   },
   "file_extension": ".py",
   "mimetype": "text/x-python",
   "name": "python",
   "nbconvert_exporter": "python",
   "pygments_lexer": "ipython3",
   "version": "3.9.12"
  },
  "orig_nbformat": 4,
  "vscode": {
   "interpreter": {
    "hash": "ad2bdc8ecc057115af97d19610ffacc2b4e99fae6737bb82f5d7fb13d2f2c186"
   }
  }
 },
 "nbformat": 4,
 "nbformat_minor": 2
}
