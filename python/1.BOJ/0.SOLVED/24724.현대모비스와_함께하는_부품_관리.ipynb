{
 "cells": [
  {
   "attachments": {},
   "cell_type": "markdown",
   "metadata": {},
   "source": [
    "현대모비스는 연간 매출 36조 이상의 글로벌 7위 자동차 부품사입니다.\n",
    "\n",
    "1977년에 설립된 현대모비스는 'Innovation for Humanity, Mobility for Tomorrow'를 비전으로 자율주행, 커넥티비티, 전동화 등 미래 모빌리티 분야를 선도하기 위해 역량을 집중하고 있습니다.\n",
    "\n",
    "현대모비스는 전동화, 제동, 샤시, 서스펜션, 조향, 에어백, 램프, 전장 등 자동차 핵심부품 개발에 앞장서고 있으며, 특히 센서, ECU 센서 융합, 안전 제어를 위한 소프트웨어 개발 분야에서 뛰어난 전문성을 보유하고 있습니다.\n",
    "\n",
    "2022년 새 학기를 맞이하면서 현대모비스에서 연세대학교 프로그래밍 동아리 모르고리즘 회원들에게 사내 견학 및 현장 체험 기회를 제공해줬다. 그에 따라서 동아리원들은 현대모비스 본사로 견학을 가게 되었다.\n",
    "\n",
    "현대모비스는 자동차 부품을 만들고 그 부품들을 여러 그룹으로 나눠서 관리한다. 안전사고를 방지하기 위해서 각 그룹별로 그룹에 속한 부품들의 크기의 합이 \n",
    "$A$를 넘기지 않으면서 무게의 합이 \n",
    "$B$를 넘기지 않게 하려고 한다. 또한, 부품 관리의 효율성을 위해서 그룹의 수를 최소화하려고 한다. 동아리원들의 현장 체험으로 현대모비스는 이러한 \"부품 관리 프로그램\"을 동아리원에게 만들어보게 하려고 한다. 그리고 현장에 대한 경험이 부족한 동아리원들을 위해서 \"부품 관리 프로그램\"의 일부로 들어갈 \"그룹 분류 프로그램\"을 미리 제공한다.\n",
    "\n",
    "그룹 분류를 하려고 하는 부품의 크기와 무게가 주어졌을 때, \"부품 관리 프로그램\"을 만들어보자.\n",
    "\n",
    "입력\n",
    "첫 번째 줄에 부품 관리 횟수를 나타내는 양의 정수 \n",
    "$T$가 주어진다. (\n",
    "$1 \\le T \\le 10$)\n",
    "\n",
    "각 부품 관리에 대한 입력은 다음과 같이 주어진다.\n",
    "\n",
    "첫 번째 줄에는 부품의 개수를 나타내는 양의 정수 \n",
    "$N$이 주어진다. (\n",
    "$1 \\le N \\le 10\\,000$)\n",
    "두 번째 줄에는 각 그룹의 크기 제한과 무게 제한을 나타내는 양의 정수 \n",
    "$A$와 \n",
    "$B$가 주어진다. (\n",
    "$1 \\le A, B \\le 10^9$)\n",
    "세 번째 줄부터 \n",
    "$N$개의 줄에 걸쳐서 각 부품의 크기와 부품에 대한 정보를 나타내는 양의 정수 \n",
    "$u_i$와 \n",
    "$v_i$가 주어진다. \n",
    "$u_i$와 \n",
    "$v_i$는 각각 \n",
    "$i$번째 부품의 크기와 무게를 나타낸다. (\n",
    "$1 \\le u_i \\le A$, \n",
    "$1 \\le v_i \\le B$)\n",
    "출력\n",
    "각 부품 관리에 대해서 다음을 출력한다.\n",
    "\n",
    "첫 번째 줄에는 Material Management x를 출력한다. x는 부품 관리 process의 번호를 의미하고, 이는 \n",
    "$1$부터 시작하여 \n",
    "$1$씩 증가한다.\n",
    "두 번째 줄에는 현대모비스에서 개발한 그룹 분류 프로그램의 완료를 나타내는 문구인 Classification ---- End!를 출력한다."
   ]
  },
  {
   "cell_type": "code",
   "execution_count": 1,
   "metadata": {},
   "outputs": [
    {
     "ename": "SyntaxError",
     "evalue": "invalid syntax (2791266337.py, line 3)",
     "output_type": "error",
     "traceback": [
      "\u001b[1;36m  Input \u001b[1;32mIn [1]\u001b[1;36m\u001b[0m\n\u001b[1;33m    4 5\u001b[0m\n\u001b[1;37m      ^\u001b[0m\n\u001b[1;31mSyntaxError\u001b[0m\u001b[1;31m:\u001b[0m invalid syntax\n"
     ]
    }
   ],
   "source": [
    "import sys\n",
    "T = int(sys.stdin.readline()) #부품관리 횟수\n",
    "n = int(sys.stdin.readline()) #부품의 개수 \n",
    "a, b = map(int,sys.stdin.readline().split()) #각 그룹의 크기 제한, 무게 제한 \n",
    "info = sys.stdin.readline()\n",
    "print(T, n, a, b, info)\n",
    "for _in range(T)"
   ]
  }
 ],
 "metadata": {
  "kernelspec": {
   "display_name": "base",
   "language": "python",
   "name": "python3"
  },
  "language_info": {
   "codemirror_mode": {
    "name": "ipython",
    "version": 3
   },
   "file_extension": ".py",
   "mimetype": "text/x-python",
   "name": "python",
   "nbconvert_exporter": "python",
   "pygments_lexer": "ipython3",
   "version": "3.9.12"
  },
  "orig_nbformat": 4,
  "vscode": {
   "interpreter": {
    "hash": "ad2bdc8ecc057115af97d19610ffacc2b4e99fae6737bb82f5d7fb13d2f2c186"
   }
  }
 },
 "nbformat": 4,
 "nbformat_minor": 2
}
