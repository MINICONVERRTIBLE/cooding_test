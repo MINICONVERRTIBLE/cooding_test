{
 "cells": [
  {
   "cell_type": "code",
   "execution_count": 3,
   "metadata": {},
   "outputs": [
    {
     "name": "stdout",
     "output_type": "stream",
     "text": [
      "75.0\n"
     ]
    }
   ],
   "source": [
    "N = int(input())\n",
    "scores = list(map(int, input().split()))\n",
    "new_score = []\n",
    "\n",
    "for score in scores:\n",
    "    new_score.append(score/max(scores)*100)\n",
    "\n",
    "print(sum(new_score)/N)"
   ]
  }
 ],
 "metadata": {
  "kernelspec": {
   "display_name": "davirtual",
   "language": "python",
   "name": "python3"
  },
  "language_info": {
   "codemirror_mode": {
    "name": "ipython",
    "version": 3
   },
   "file_extension": ".py",
   "mimetype": "text/x-python",
   "name": "python",
   "nbconvert_exporter": "python",
   "pygments_lexer": "ipython3",
   "version": "3.8.16"
  },
  "orig_nbformat": 4
 },
 "nbformat": 4,
 "nbformat_minor": 2
}
