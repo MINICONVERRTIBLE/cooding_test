{
 "cells": [
  {
   "attachments": {},
   "cell_type": "markdown",
   "metadata": {},
   "source": [
    "백준대학교에서는 대회에 나갈 때 2명의 여학생과 1명의 남학생이 팀을 결성해서 나가는 것이 원칙이다. (왜인지는 총장님께 여쭈어보는 것이 좋겠다.)\n",
    "\n",
    "백준대학교는 뛰어난 인재들이 많아 올해에도 N명의 여학생과 M명의 남학생이 팀원을 찾고 있다. 대회에 참여하려는 학생들 중 K명은 반드시 인턴쉽 프로그램에 참여해야 한다. 인턴쉽에 참여하는 학생은 대회에 참여하지 못한다.\n",
    "\n",
    "백준대학교에서는 뛰어난 인재들이 많기 때문에, 많은 팀을 만드는 것이 최선이다.\n",
    "\n",
    "여러분은 여학생의 수 N, 남학생의 수 M, 인턴쉽에 참여해야하는 인원 K가 주어질 때 만들 수 있는 최대의 팀 수를 구하면 된다.\n",
    "\n",
    "입력\n",
    "첫째 줄에 N, M, K가 순서대로 주어진다. (0 ≤ M ≤ 100, 0 ≤ N ≤ 100, 0 ≤ K ≤ M+N),\n",
    "\n",
    "출력\n",
    "만들 수 있는 팀의 최대 개수을 출력하면 된다."
   ]
  },
  {
   "cell_type": "code",
   "execution_count": 5,
   "metadata": {},
   "outputs": [
    {
     "ename": "ValueError",
     "evalue": "too many values to unpack (expected 2)",
     "output_type": "error",
     "traceback": [
      "\u001b[1;31m---------------------------------------------------------------------------\u001b[0m",
      "\u001b[1;31mValueError\u001b[0m                                Traceback (most recent call last)",
      "\u001b[1;32mc:\\Users\\Jihae.LAPTOP-RT9ELE6H\\Desktop\\coding_test\\PYTHON\\1.BOJ\\1.UNSOLVED\\11047.동전_0.ipynb Cell 2\u001b[0m in \u001b[0;36m<cell line: 1>\u001b[1;34m()\u001b[0m\n\u001b[1;32m----> <a href='vscode-notebook-cell:/c%3A/Users/Jihae.LAPTOP-RT9ELE6H/Desktop/coding_test/PYTHON/1.BOJ/1.UNSOLVED/11047.%EB%8F%99%EC%A0%84_0.ipynb#W1sZmlsZQ%3D%3D?line=0'>1</a>\u001b[0m N, K \u001b[39m=\u001b[39m \u001b[39mmap\u001b[39m(\u001b[39mint\u001b[39m, \u001b[39minput\u001b[39m()\u001b[39m.\u001b[39msplit()) \n\u001b[0;32m      <a href='vscode-notebook-cell:/c%3A/Users/Jihae.LAPTOP-RT9ELE6H/Desktop/coding_test/PYTHON/1.BOJ/1.UNSOLVED/11047.%EB%8F%99%EC%A0%84_0.ipynb#W1sZmlsZQ%3D%3D?line=1'>2</a>\u001b[0m coins \u001b[39m=\u001b[39m []\n\u001b[0;32m      <a href='vscode-notebook-cell:/c%3A/Users/Jihae.LAPTOP-RT9ELE6H/Desktop/coding_test/PYTHON/1.BOJ/1.UNSOLVED/11047.%EB%8F%99%EC%A0%84_0.ipynb#W1sZmlsZQ%3D%3D?line=2'>3</a>\u001b[0m \u001b[39mfor\u001b[39;00m _ \u001b[39min\u001b[39;00m \u001b[39mrange\u001b[39m(N):\n",
      "\u001b[1;31mValueError\u001b[0m: too many values to unpack (expected 2)"
     ]
    }
   ],
   "source": [
    "N, M, K = map(int, input().split()) \n",
    "answer = 0 \n",
    "while N>=2 and M>= 1 and N+M>=K+3:\n",
    "    N-=2\n",
    "    M-=1\n",
    "    answer += 1\n",
    "print(answer)\n",
    "     "
   ]
  },
  {
   "cell_type": "code",
   "execution_count": null,
   "metadata": {},
   "outputs": [],
   "source": [
    "N, K = map(int, input().split()) \n",
    "coins = []\n",
    "for _ in range(N):\n",
    "    coins.append(int(input()))\n",
    "coins.sort(reverse=True)\n",
    "answer = 0\n",
    "for coin in coins:\n",
    "    if K >= coin:\n",
    "        answer += K // coin \n",
    "        K %= coin \n",
    "        if K <= 0:\n",
    "       \t\tbreak\n",
    "print(answer) "
   ]
  },
  {
   "cell_type": "code",
   "execution_count": null,
   "metadata": {},
   "outputs": [],
   "source": [
    "10 4200\n",
    "1\n",
    "5\n",
    "10\n",
    "50\n",
    "100\n",
    "500\n",
    "1000\n",
    "5000\n",
    "10000\n",
    "50000"
   ]
  },
  {
   "cell_type": "code",
   "execution_count": null,
   "metadata": {},
   "outputs": [],
   "source": [
    "10 4790\n",
    "1\n",
    "5\n",
    "10\n",
    "50\n",
    "100\n",
    "500\n",
    "1000\n",
    "5000\n",
    "10000\n",
    "50000"
   ]
  }
 ],
 "metadata": {
  "kernelspec": {
   "display_name": "base",
   "language": "python",
   "name": "python3"
  },
  "language_info": {
   "codemirror_mode": {
    "name": "ipython",
    "version": 3
   },
   "file_extension": ".py",
   "mimetype": "text/x-python",
   "name": "python",
   "nbconvert_exporter": "python",
   "pygments_lexer": "ipython3",
   "version": "3.9.12"
  },
  "orig_nbformat": 4,
  "vscode": {
   "interpreter": {
    "hash": "ad2bdc8ecc057115af97d19610ffacc2b4e99fae6737bb82f5d7fb13d2f2c186"
   }
  }
 },
 "nbformat": 4,
 "nbformat_minor": 2
}
