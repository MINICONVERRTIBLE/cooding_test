{
 "cells": [
  {
   "attachments": {},
   "cell_type": "markdown",
   "metadata": {},
   "source": [
    "옛날 옛적에 수학이 항상 큰 골칫거리였던 나라가 있었다. 이 나라의 국왕 김지민은 다음과 같은 문제를 내고 큰 상금을 걸었다.\n",
    "\n",
    "길이가 N인 정수 배열 A와 B가 있다. 다음과 같이 함수 S를 정의하자.\n",
    "\n",
    "S = A[0] × B[0] + ... + A[N-1] × B[N-1]\n",
    "\n",
    "S의 값을 가장 작게 만들기 위해 A의 수를 재배열하자. 단, B에 있는 수는 재배열하면 안 된다.\n",
    "\n",
    "S의 최솟값을 출력하는 프로그램을 작성하시오.\n",
    "\n",
    "입력\n",
    "첫째 줄에 N이 주어진다. 둘째 줄에는 A에 있는 N개의 수가 순서대로 주어지고, 셋째 줄에는 B에 있는 수가 순서대로 주어진다. N은 50보다 작거나 같은 자연수이고, A와 B의 각 원소는 100보다 작거나 같은 음이 아닌 정수이다.\n",
    "\n",
    "출력\n",
    "첫째 줄에 S의 최솟값을 출력한다."
   ]
  },
  {
   "cell_type": "markdown",
   "metadata": {},
   "source": [
    "옛날 옛적에 수학이 항상 큰 골칫거리였던 나라가 있었다. 이 나라의 국왕 김지민은 다음과 같은 문제를 내고 큰 상금을 걸었다.\n",
    "\n",
    "길이가 N인 정수 배열 A와 B가 있다. 다음과 같이 함수 S를 정의하자.\n",
    "\n",
    "S = A[0] × B[0] + ... + A[N-1] × B[N-1]\n",
    "\n",
    "S의 값을 가장 작게 만들기 위해 A의 수를 재배열하자. 단, B에 있는 수는 재배열하면 안 된다.\n",
    "\n",
    "S의 최솟값을 출력하는 프로그램을 작성하시오.\n",
    "\n",
    "입력\n",
    "첫째 줄에 N이 주어진다. 둘째 줄에는 A에 있는 N개의 수가 순서대로 주어지고, 셋째 줄에는 B에 있는 수가 순서대로 주어진다. N은 50보다 작거나 같은 자연수이고, A와 B의 각 원소는 100보다 작거나 같은 음이 아닌 정수이다.\n",
    "\n",
    "출력\n",
    "첫째 줄에 S의 최솟값을 출력한다."
   ]
  },
  {
   "cell_type": "code",
   "execution_count": 14,
   "metadata": {},
   "outputs": [],
   "source": [
    "import sys \n",
    "n = int(input())\n",
    "A = list(int(sys.stdin.readline()))\n",
    "B = list(int(sys.stdin.readline()))\n",
    "def solution(n, A, B):\n",
    "    for i in range(n):\n",
    "        B[i]"
   ]
  },
  {
   "cell_type": "code",
   "execution_count": 15,
   "metadata": {},
   "outputs": [
    {
     "data": {
      "text/plain": [
       "7"
      ]
     },
     "execution_count": 15,
     "metadata": {},
     "output_type": "execute_result"
    }
   ],
   "source": [
    "solution(380)"
   ]
  }
 ],
 "metadata": {
  "kernelspec": {
   "display_name": "base",
   "language": "python",
   "name": "python3"
  },
  "language_info": {
   "codemirror_mode": {
    "name": "ipython",
    "version": 3
   },
   "file_extension": ".py",
   "mimetype": "text/x-python",
   "name": "python",
   "nbconvert_exporter": "python",
   "pygments_lexer": "ipython3",
   "version": "3.9.12"
  },
  "orig_nbformat": 4,
  "vscode": {
   "interpreter": {
    "hash": "ad2bdc8ecc057115af97d19610ffacc2b4e99fae6737bb82f5d7fb13d2f2c186"
   }
  }
 },
 "nbformat": 4,
 "nbformat_minor": 2
}
