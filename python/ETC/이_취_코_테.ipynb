{
 "cells": [
  {
   "attachments": {},
   "cell_type": "markdown",
   "metadata": {},
   "source": [
    "### 수행시간 측정 소스코드 "
   ]
  },
  {
   "cell_type": "code",
   "execution_count": 1,
   "metadata": {},
   "outputs": [
    {
     "name": "stdout",
     "output_type": "stream",
     "text": [
      "time: 0.0\n"
     ]
    }
   ],
   "source": [
    "import time \n",
    "start_time = time.time() #측정 시작 \n",
    "end_time = time.time() # 측정 종료\n",
    "print(\"time:\", end_time - start_time) #수행 시간 "
   ]
  },
  {
   "attachments": {},
   "cell_type": "markdown",
   "metadata": {},
   "source": [
    "### 리스트 컴프리헨션 \n",
    "###### 리스트 컴프리헨션은 2차원 리스트를 초기화할때 효과적으로 사용될 수 있다. \n",
    "###### 파이썬에서는 반복을 수행하되 반복을 위한 변수의 값을 무시하고자 할 때 언더바(_)를 사용한다"
   ]
  },
  {
   "cell_type": "code",
   "execution_count": 2,
   "metadata": {},
   "outputs": [
    {
     "name": "stdout",
     "output_type": "stream",
     "text": [
      "[0, 1, 2, 3, 4, 5, 6, 7, 8, 9]\n"
     ]
    }
   ],
   "source": [
    "array = [i for i in range(10)]\n",
    "print(array)"
   ]
  },
  {
   "cell_type": "code",
   "execution_count": 3,
   "metadata": {},
   "outputs": [
    {
     "name": "stdout",
     "output_type": "stream",
     "text": [
      "[[0, 0, 0], [0, 0, 0], [0, 0, 0], [0, 0, 0]]\n"
     ]
    }
   ],
   "source": [
    "n = 4\n",
    "m = 3\n",
    "array = [[0]*m for _ in range(n)]\n",
    "print(array)"
   ]
  },
  {
   "cell_type": "code",
   "execution_count": 4,
   "metadata": {},
   "outputs": [
    {
     "name": "stdout",
     "output_type": "stream",
     "text": [
      "45\n"
     ]
    }
   ],
   "source": [
    "summary = 0\n",
    "for i in range (1, 10):\n",
    "    summary += i\n",
    "print(summary)"
   ]
  },
  {
   "cell_type": "code",
   "execution_count": 5,
   "metadata": {},
   "outputs": [
    {
     "name": "stdout",
     "output_type": "stream",
     "text": [
      "Hello World\n",
      "Hello World\n",
      "Hello World\n",
      "Hello World\n",
      "Hello World\n"
     ]
    }
   ],
   "source": [
    "for _ in range(5):\n",
    "    print(\"Hello World\")"
   ]
  },
  {
   "attachments": {},
   "cell_type": "markdown",
   "metadata": {},
   "source": [
    "### 빠르게 입력 받기 "
   ]
  },
  {
   "cell_type": "code",
   "execution_count": 1,
   "metadata": {},
   "outputs": [
    {
     "data": {
      "text/plain": [
       "'\\n사용자로부터 입력을 최대한 빠르게 받아야하는 경우\\n파이썬의 경우 sys 라이브러리에서 정의되어 있는 sys.stdin.readline() 메서드를 활용 \\n단. 입력 후 엔터가 줄바꿈 기호로 입력되므로 rstrip() 메서드 함께 활용 \\n'"
      ]
     },
     "execution_count": 1,
     "metadata": {},
     "output_type": "execute_result"
    }
   ],
   "source": [
    "'''\n",
    "사용자로부터 입력을 최대한 빠르게 받아야하는 경우\n",
    "파이썬의 경우 sys 라이브러리에서 정의되어 있는 sys.stdin.readline() 메서드를 활용 \n",
    "단. 입력 후 엔터가 줄바꿈 기호로 입력되므로 rstrip() 메서드 함께 활용 \n",
    "'''"
   ]
  },
  {
   "cell_type": "code",
   "execution_count": 6,
   "metadata": {},
   "outputs": [],
   "source": [
    "import sys \n",
    "#문자열 입력 받기 \n",
    "data = sys.stdin.readline().rstrip()\n",
    "print(data)"
   ]
  },
  {
   "attachments": {},
   "cell_type": "markdown",
   "metadata": {},
   "source": [
    "#### global 키워드 \n",
    "##### global 키워드로 변수를 지정하면 해당 함수에서는 지역 변수를 만들지 않고, 함수 바깥에 선언된 변수를 바로 참조하게 된다! "
   ]
  },
  {
   "cell_type": "code",
   "execution_count": 2,
   "metadata": {},
   "outputs": [
    {
     "name": "stdout",
     "output_type": "stream",
     "text": [
      "10\n"
     ]
    }
   ],
   "source": [
    "a = 0 \n",
    "\n",
    "def func():\n",
    "    global a \n",
    "    a += 1\n",
    "for i in range(10):\n",
    "    func()\n",
    "print(a)"
   ]
  },
  {
   "attachments": {},
   "cell_type": "markdown",
   "metadata": {},
   "source": [
    "##### 실전에서 유용한 표준 라이브러리 \n",
    "1. 내장함수 \n",
    "2. itertools (순열과 조합 라이브러리 자주 사용)\n",
    "3. heapq (우선순위 큐 기능 구현)\n",
    "4. bisect (이진탐색 기능)\n",
    "5. collections (덱, 카운터 등의 유용한 자료구조 포함)\n",
    "6. math (펙토리얼, 제곱근, 최대공약수, 삼각함수 관련 함수와 pi같은 상수 포함 )"
   ]
  },
  {
   "cell_type": "code",
   "execution_count": 3,
   "metadata": {},
   "outputs": [
    {
     "name": "stdout",
     "output_type": "stream",
     "text": [
      "[('A', 'B', 'C'), ('A', 'C', 'B'), ('B', 'A', 'C'), ('B', 'C', 'A'), ('C', 'A', 'B'), ('C', 'B', 'A')]\n"
     ]
    }
   ],
   "source": [
    "#순열과 조합 \n",
    "from itertools import permutations\n",
    "data = ['A','B','C']\n",
    "result = list(permutations(data, 3))\n",
    "print(result)"
   ]
  },
  {
   "cell_type": "code",
   "execution_count": 5,
   "metadata": {},
   "outputs": [
    {
     "name": "stdout",
     "output_type": "stream",
     "text": [
      "[('A', 'B'), ('A', 'C'), ('B', 'C')]\n"
     ]
    }
   ],
   "source": [
    "#순열과 조합 \n",
    "from itertools import combinations\n",
    "data = ['A','B','C']\n",
    "result = list(combinations(data, 2))\n",
    "print(result)"
   ]
  },
  {
   "cell_type": "code",
   "execution_count": 6,
   "metadata": {},
   "outputs": [
    {
     "name": "stdout",
     "output_type": "stream",
     "text": [
      "[('A', 'A'), ('A', 'B'), ('A', 'C'), ('B', 'A'), ('B', 'B'), ('B', 'C'), ('C', 'A'), ('C', 'B'), ('C', 'C')]\n"
     ]
    }
   ],
   "source": [
    "#중복 순열 \n",
    "from itertools import product \n",
    "data = ['A','B','C']\n",
    "result = list(product(data, repeat = 2)) #2개를 뽑는 모든 순열 (중복 허용)\n",
    "print(result)"
   ]
  },
  {
   "cell_type": "code",
   "execution_count": 7,
   "metadata": {},
   "outputs": [
    {
     "name": "stdout",
     "output_type": "stream",
     "text": [
      "[('A', 'A'), ('A', 'B'), ('A', 'C'), ('B', 'B'), ('B', 'C'), ('C', 'C')]\n"
     ]
    }
   ],
   "source": [
    "#중복 조합 \n",
    "from itertools import combinations_with_replacement\n",
    "data = ['A','B','C']\n",
    "result = list(combinations_with_replacement(data,2))\n",
    "print(result)"
   ]
  },
  {
   "cell_type": "code",
   "execution_count": 8,
   "metadata": {},
   "outputs": [
    {
     "name": "stdout",
     "output_type": "stream",
     "text": [
      "3\n",
      "1\n",
      "{'red': 2, 'blue': 3, 'green': 1}\n"
     ]
    }
   ],
   "source": [
    "#파이썬 counter 기능 (등장 횟수를 세는 기능을 제공)\n",
    "from collections import Counter\n",
    "counter = Counter(['red','blue','red','green','blue','blue'])\n",
    "print(counter['blue']) #blue가 등장한 횟수 출력 \n",
    "print(counter['green']) #green이 등장한 횟수 출력 \n",
    "print(dict(counter)) #사전 자료형으로 반환"
   ]
  },
  {
   "cell_type": "code",
   "execution_count": 9,
   "metadata": {},
   "outputs": [
    {
     "name": "stdout",
     "output_type": "stream",
     "text": [
      "7\n",
      "42\n"
     ]
    }
   ],
   "source": [
    "#최대 공약수화 최소 공배수를 구하는 함수 \n",
    "#최대공약수를 구해야할 때는 math 라이브러리의 gcd()함수를 이용하면 댐! \n",
    "import math \n",
    "\n",
    "#최소공배수를 구하는 함수 \n",
    "def lcm(a,b):\n",
    "    return a*b // math.gcd(a,b)\n",
    "a = 21\n",
    "b = 14 \n",
    "\n",
    "print(math.gcd(21,14))\n",
    "print(lcm(21,14))"
   ]
  },
  {
   "attachments": {},
   "cell_type": "markdown",
   "metadata": {},
   "source": [
    "#### 그리디 알고리즘 \n",
    "##### 현재 상황에서 지금 당장 좋은 것만 고르는 방법! "
   ]
  }
 ],
 "metadata": {
  "kernelspec": {
   "display_name": "base",
   "language": "python",
   "name": "python3"
  },
  "language_info": {
   "codemirror_mode": {
    "name": "ipython",
    "version": 3
   },
   "file_extension": ".py",
   "mimetype": "text/x-python",
   "name": "python",
   "nbconvert_exporter": "python",
   "pygments_lexer": "ipython3",
   "version": "3.9.12"
  },
  "orig_nbformat": 4,
  "vscode": {
   "interpreter": {
    "hash": "ad2bdc8ecc057115af97d19610ffacc2b4e99fae6737bb82f5d7fb13d2f2c186"
   }
  }
 },
 "nbformat": 4,
 "nbformat_minor": 2
}
